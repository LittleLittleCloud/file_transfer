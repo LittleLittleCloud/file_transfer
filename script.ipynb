{
 "metadata": {
  "language_info": {
   "codemirror_mode": {
    "name": "ipython",
    "version": 3
   },
   "file_extension": ".py",
   "mimetype": "text/x-python",
   "name": "python",
   "nbconvert_exporter": "python",
   "pygments_lexer": "ipython3",
   "version": "3.7.3-final"
  },
  "orig_nbformat": 2,
  "kernelspec": {
   "name": "python3",
   "display_name": "Python 3",
   "language": "python"
  }
 },
 "nbformat": 4,
 "nbformat_minor": 2,
 "cells": [
  {
   "cell_type": "code",
   "execution_count": 24,
   "metadata": {},
   "outputs": [],
   "source": [
    "import pandas as pd"
   ]
  },
  {
   "cell_type": "code",
   "execution_count": 26,
   "metadata": {},
   "outputs": [],
   "source": [
    "df = pd.read_csv('short.vcf', delimiter='\\t', comment='#', index_col='ID')"
   ]
  },
  {
   "cell_type": "code",
   "execution_count": 27,
   "metadata": {},
   "outputs": [],
   "source": [
    "def str2dict(s):\n",
    "    kv_pairs = s.split(';')\n",
    "    res = {}\n",
    "    for kv in kv_pairs:\n",
    "        _kv = kv.split('=')\n",
    "        if(len(_kv))==2:\n",
    "            res[_kv[0]] = _kv[1]\n",
    "    return res\n",
    "infos = df['INFO'].map(lambda s: str2dict(s))"
   ]
  },
  {
   "cell_type": "code",
   "execution_count": 28,
   "metadata": {},
   "outputs": [],
   "source": [
    "AFs = infos.map(lambda x: x['AF'] if 'AF' in x else None)\n",
    "df['AF'] = AFs"
   ]
  },
  {
   "cell_type": "code",
   "execution_count": 31,
   "metadata": {},
   "outputs": [],
   "source": [
    "# read comment\n",
    "comments = []\n",
    "with open('short.vcf', mode='r') as f:\n",
    "    while True:\n",
    "        current_line = f.readline()\n",
    "        if not current_line.startswith(\"##\"):\n",
    "            break\n",
    "        comments.append(current_line)\n",
    "\n",
    "with open('short_with_af.vcf', mode='w') as f:\n",
    "    f.writelines(comments)\n",
    "    df.to_csv(f, mode='a', index=False, sep='\\t')"
   ]
  },
  {
   "cell_type": "code",
   "execution_count": null,
   "metadata": {},
   "outputs": [],
   "source": []
  }
 ]
}